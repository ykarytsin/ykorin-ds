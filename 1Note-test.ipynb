{
 "cells": [
  {
   "cell_type": "code",
   "execution_count": 10,
   "metadata": {},
   "outputs": [
    {
     "name": "stdout",
     "output_type": "stream",
     "text": [
      "17.414074767267998\n"
     ]
    }
   ],
   "source": [
    "x=(4+5*60-17+65/5)**(1/2)\n",
    "print(x)"
   ]
  },
  {
   "cell_type": "code",
   "execution_count": 12,
   "metadata": {},
   "outputs": [
    {
     "name": "stdout",
     "output_type": "stream",
     "text": [
      "1916.7312813742387\n"
     ]
    }
   ],
   "source": [
    "y = 6.996 + 45 * ((13/2)**2) + 2 * (18**(1/2))\n",
    "print(y)"
   ]
  },
  {
   "cell_type": "code",
   "execution_count": 18,
   "metadata": {},
   "outputs": [
    {
     "name": "stdout",
     "output_type": "stream",
     "text": [
      "-0.3909200032552083\n"
     ]
    }
   ],
   "source": [
    "z = (1267 - 20 * ((5**3)/2)**2)/(8**5 * 36**(1/2))\n",
    "print(z)"
   ]
  },
  {
   "cell_type": "code",
   "execution_count": 15,
   "metadata": {},
   "outputs": [
    {
     "name": "stdout",
     "output_type": "stream",
     "text": [
      "-4251528.0\n"
     ]
    }
   ],
   "source": [
    "w = ((((9**(1/2))**3)**2)**2)/((-2)**(-3))\n",
    "print(w)"
   ]
  },
  {
   "cell_type": "code",
   "execution_count": 19,
   "metadata": {},
   "outputs": [
    {
     "data": {
      "text/plain": [
       "'hey!'"
      ]
     },
     "execution_count": 19,
     "metadata": {},
     "output_type": "execute_result"
    }
   ],
   "source": [
    "'hey'+'!'"
   ]
  },
  {
   "cell_type": "code",
   "execution_count": 20,
   "metadata": {},
   "outputs": [
    {
     "data": {
      "text/plain": [
       "float"
      ]
     },
     "execution_count": 20,
     "metadata": {},
     "output_type": "execute_result"
    }
   ],
   "source": [
    "type(4 ** (1/2))"
   ]
  },
  {
   "cell_type": "code",
   "execution_count": 21,
   "metadata": {},
   "outputs": [
    {
     "ename": "TypeError",
     "evalue": "can only concatenate str (not \"int\") to str",
     "output_type": "error",
     "traceback": [
      "\u001b[1;31m---------------------------------------------------------------------------\u001b[0m",
      "\u001b[1;31mTypeError\u001b[0m                                 Traceback (most recent call last)",
      "\u001b[1;32m<ipython-input-21-595dafadcf90>\u001b[0m in \u001b[0;36m<module>\u001b[1;34m\u001b[0m\n\u001b[1;32m----> 1\u001b[1;33m \u001b[1;34m'42'\u001b[0m \u001b[1;33m+\u001b[0m \u001b[1;36m2\u001b[0m\u001b[1;33m\u001b[0m\u001b[1;33m\u001b[0m\u001b[0m\n\u001b[0m",
      "\u001b[1;31mTypeError\u001b[0m: can only concatenate str (not \"int\") to str"
     ]
    }
   ],
   "source": [
    "'42' + 2"
   ]
  },
  {
   "cell_type": "code",
   "execution_count": 22,
   "metadata": {},
   "outputs": [
    {
     "name": "stdout",
     "output_type": "stream",
     "text": [
      "Напишите что-нибудь хорошее: Что-нить хорошее\n"
     ]
    }
   ],
   "source": [
    "phrase = input ('Напишите что-нибудь хорошее: ')"
   ]
  },
  {
   "cell_type": "code",
   "execution_count": 23,
   "metadata": {},
   "outputs": [
    {
     "name": "stdout",
     "output_type": "stream",
     "text": [
      "Что-нить хорошее\n"
     ]
    }
   ],
   "source": [
    "print(phrase)"
   ]
  },
  {
   "cell_type": "code",
   "execution_count": 25,
   "metadata": {},
   "outputs": [
    {
     "name": "stdout",
     "output_type": "stream",
     "text": [
      "Введите ваше имя: \n",
      "Алексей\n",
      "Сегодня Вас зовут Алексей\n"
     ]
    }
   ],
   "source": [
    "name = input('Введите ваше имя: \\n')\n",
    "print('Сегодня Вас зовут', name) "
   ]
  },
  {
   "cell_type": "code",
   "execution_count": 26,
   "metadata": {},
   "outputs": [
    {
     "name": "stdout",
     "output_type": "stream",
     "text": [
      "17.213006207263156\n"
     ]
    }
   ],
   "source": [
    "a = 12\n",
    "b = 17\n",
    "c = 25\n",
    "print((a * b * c)**(1/3))"
   ]
  },
  {
   "cell_type": "code",
   "execution_count": 27,
   "metadata": {},
   "outputs": [
    {
     "name": "stdout",
     "output_type": "stream",
     "text": [
      "113628013506.996\n"
     ]
    }
   ],
   "source": [
    "x = 100500\n",
    "f = 6.996 + 45 * (x/2)**2 + 2 * x\n",
    "print(f)"
   ]
  },
  {
   "cell_type": "code",
   "execution_count": 28,
   "metadata": {},
   "outputs": [
    {
     "name": "stdout",
     "output_type": "stream",
     "text": [
      "28.341855368882392\n"
     ]
    }
   ],
   "source": [
    "weight = 97\n",
    "height = 1.85\n",
    "imt = weight / (height**2)\n",
    "print(imt)"
   ]
  },
  {
   "cell_type": "code",
   "execution_count": 1,
   "metadata": {},
   "outputs": [],
   "source": [
    "a = 270\n",
    "b = 12.8\n",
    "sq = (a+b)**(1/3)"
   ]
  },
  {
   "cell_type": "code",
   "execution_count": 2,
   "metadata": {},
   "outputs": [
    {
     "name": "stdout",
     "output_type": "stream",
     "text": [
      "6.5638674399120225\n"
     ]
    }
   ],
   "source": [
    "print(sq)"
   ]
  },
  {
   "cell_type": "code",
   "execution_count": 3,
   "metadata": {},
   "outputs": [
    {
     "name": "stdout",
     "output_type": "stream",
     "text": [
      "Введите целое число:\n",
      "23\n",
      "Вы ввели число, которое при умножении на 3 даёт 69\n"
     ]
    }
   ],
   "source": [
    "a = int(input('Введите целое число:\\n'))\n",
    "print('Вы ввели число, которое при умножении на 3 даёт', a*3)"
   ]
  },
  {
   "cell_type": "code",
   "execution_count": 4,
   "metadata": {},
   "outputs": [
    {
     "name": "stdout",
     "output_type": "stream",
     "text": [
      "8.88748820522211\n"
     ]
    }
   ],
   "source": [
    "string_1 = 'Hello, world!'\n",
    "string_2 = 'Python <3' \n",
    "string_3 = 'qwerty'\n",
    "a = len(string_1)\n",
    "b = len(string_2)\n",
    "c = len(string_3)\n",
    "ag = (a*b*c)**(1/3)\n",
    "print(ag)"
   ]
  },
  {
   "cell_type": "code",
   "execution_count": 5,
   "metadata": {},
   "outputs": [
    {
     "name": "stdout",
     "output_type": "stream",
     "text": [
      "Enter string: \n",
      "Привет\n",
      "Enter number: \n",
      "2\n",
      "Привет 6 36\n"
     ]
    }
   ],
   "source": [
    "string = input('Enter string: \\n')\n",
    "power = int(input('Enter number: \\n'))\n",
    "print(string, len(string), len(string)**power)"
   ]
  },
  {
   "cell_type": "code",
   "execution_count": 10,
   "metadata": {},
   "outputs": [
    {
     "name": "stdout",
     "output_type": "stream",
     "text": [
      "13\n",
      "Квадратный корень из 13 - не целое число\n"
     ]
    }
   ],
   "source": [
    "number = int(input())\n",
    "sq_float = number ** (1/2)\n",
    "sq_int = int(sq_float)\n",
    "\n",
    "if sq_int == sq_float :\n",
    "    print(sq_int)\n",
    "else :\n",
    "    print(\"Квадратный корень из\", number,\"- не целое число\")"
   ]
  },
  {
   "cell_type": "code",
   "execution_count": 13,
   "metadata": {},
   "outputs": [
    {
     "name": "stdout",
     "output_type": "stream",
     "text": [
      "Ане понравятся эти цветы\n"
     ]
    }
   ],
   "source": [
    "flower = 'роза'\n",
    "color = 'белый'\n",
    "\n",
    "if flower == 'роза' and (color == 'синий' or color == 'белый') :\n",
    "    print(\"Ане понравятся эти цветы\")\n",
    "else :\n",
    "    print(\"Аня не фанат таких цветов\")"
   ]
  },
  {
   "cell_type": "code",
   "execution_count": 15,
   "metadata": {},
   "outputs": [
    {
     "name": "stdout",
     "output_type": "stream",
     "text": [
      "Преподаватель занят.\n"
     ]
    }
   ],
   "source": [
    "hour = 18\n",
    "minute = 47\n",
    "\n",
    "if (11 > hour > 10 and 0 <= minute < 30) or (13 > hour >= 12 and 59 >= minute >= 0) or (hour == 13 and 40 > minute >= 0) or (18 > hour >= 15) or (20 > hour >= 19 and minute >= 30) :\n",
    "    print(\"Преподаватель свободен.\")\n",
    "else :\n",
    "    print(\"Преподаватель занят.\")"
   ]
  },
  {
   "cell_type": "code",
   "execution_count": 19,
   "metadata": {},
   "outputs": [
    {
     "name": "stdout",
     "output_type": "stream",
     "text": [
      "п\n",
      "д\n",
      "и\n",
      "н\n",
      "к\n",
      "пдинк\n"
     ]
    }
   ],
   "source": [
    "word = 'подшипник'\n",
    "en = ''\n",
    "\n",
    "for i, letter in enumerate(word) :\n",
    "    if (i + 1) % 2 > 0 :\n",
    "        en += letter\n",
    "        print(letter)\n",
    "print(en)"
   ]
  },
  {
   "cell_type": "code",
   "execution_count": 23,
   "metadata": {},
   "outputs": [
    {
     "name": "stdout",
     "output_type": "stream",
     "text": [
      "2013 год невисокосный\n",
      "2014 год невисокосный\n",
      "2015 год невисокосный\n",
      "2016 год високосный\n",
      "2017 год невисокосный\n",
      "2018 год невисокосный\n",
      "2019 год невисокосный\n",
      "2020 год високосный\n"
     ]
    }
   ],
   "source": [
    "year_1 = 2013\n",
    "year_2 = 2020\n",
    "\n",
    "for i in range(year_1, year_2 + 1) :\n",
    "    if i % 4 == 0 :\n",
    "        print(i, \"год високосный\")\n",
    "    else :\n",
    "        print(i, \"год невисокосный\")\n",
    "        "
   ]
  },
  {
   "cell_type": "code",
   "execution_count": 24,
   "metadata": {},
   "outputs": [
    {
     "name": "stdout",
     "output_type": "stream",
     "text": [
      "и\n",
      "у\n",
      "а\n",
      "и\n",
      "а\n"
     ]
    }
   ],
   "source": [
    "word = 'Зимушка-зима'\n",
    "\n",
    "for i, letter in enumerate(word) :\n",
    "    if letter == 'а' or letter == 'я' or letter == 'о' or letter == 'ё' or letter == 'у' or letter == 'ю' or  letter == 'э' or letter == 'е' or  letter == 'ы' or letter == 'и' :\n",
    "        print(letter)"
   ]
  },
  {
   "cell_type": "code",
   "execution_count": 25,
   "metadata": {},
   "outputs": [
    {
     "name": "stdout",
     "output_type": "stream",
     "text": [
      "Буква 0 в этом имени - С\n",
      "Буква 1 в этом имени - е\n",
      "Буква 2 в этом имени - р\n",
      "Буква 3 в этом имени - г\n",
      "Буква 4 в этом имени - е\n",
      "Буква 5 в этом имени - й\n"
     ]
    }
   ],
   "source": [
    "name = 'Сергей'\n",
    "\n",
    "for i, letter in enumerate(name) :\n",
    "    print(\"Буква\", i,\"в этом имени -\", letter)"
   ]
  },
  {
   "cell_type": "code",
   "execution_count": 27,
   "metadata": {},
   "outputs": [
    {
     "name": "stdout",
     "output_type": "stream",
     "text": [
      "25\n",
      "27\n",
      "33\n",
      "35\n",
      "39\n",
      "45\n"
     ]
    }
   ],
   "source": [
    "num_1 = 25\n",
    "num_2 = 45\n",
    "\n",
    "for i in range(num_1, num_2 + 1) :\n",
    "    if i % 2 != 0 and ( i % 3 == 0 or i % 5 == 0) :\n",
    "        print(i)"
   ]
  },
  {
   "cell_type": "code",
   "execution_count": 28,
   "metadata": {},
   "outputs": [
    {
     "name": "stdout",
     "output_type": "stream",
     "text": [
      "1 1 1\n",
      "2 4 8\n",
      "3 9 27\n",
      "4 16 64\n",
      "5 25 125\n",
      "6 36 216\n",
      "7 49 343\n",
      "8 64 512\n",
      "9 81 729\n",
      "10 100 1000\n"
     ]
    }
   ],
   "source": [
    "for i in range(1, 11) :\n",
    "    print(i, i**2, i**3)"
   ]
  },
  {
   "cell_type": "code",
   "execution_count": 29,
   "metadata": {},
   "outputs": [
    {
     "name": "stdout",
     "output_type": "stream",
     "text": [
      "1\n",
      "2\n",
      "3\n",
      "4\n",
      "6\n",
      "7\n",
      "12\n",
      "14\n",
      "21\n",
      "28\n",
      "42\n",
      "84\n"
     ]
    }
   ],
   "source": [
    "number = 84\n",
    "\n",
    "for i in range(1, number + 1) :\n",
    "    if number % i == 0 :\n",
    "        print(i)"
   ]
  },
  {
   "cell_type": "code",
   "execution_count": 32,
   "metadata": {},
   "outputs": [
    {
     "name": "stdout",
     "output_type": "stream",
     "text": [
      "1\n",
      "2\n"
     ]
    }
   ],
   "source": [
    "num_1 = 12\n",
    "num_2 = 38\n",
    "\n",
    "irange = 0\n",
    "if num_1 <= num_2 :\n",
    "    irange = num_1 + 1\n",
    "else : \n",
    "    irange = num_2 + 1\n",
    "\n",
    "for i in range(1, irange) :\n",
    "    if num_1 % i == 0 and num_2 % i == 0 :\n",
    "        print(i)"
   ]
  },
  {
   "cell_type": "code",
   "execution_count": 40,
   "metadata": {},
   "outputs": [
    {
     "name": "stdout",
     "output_type": "stream",
     "text": [
      "55\n"
     ]
    }
   ],
   "source": [
    "n = 10\n",
    "fib1 = 1;\n",
    "fib2 = 1;\n",
    "\n",
    "for i in range(2, n) :\n",
    "   a = fib1\n",
    "   fib1 += fib2\n",
    "   fib2 = a\n",
    "else :\n",
    "   print(fib1)"
   ]
  },
  {
   "cell_type": "code",
   "execution_count": 41,
   "metadata": {},
   "outputs": [
    {
     "name": "stdout",
     "output_type": "stream",
     "text": [
      "15 X 1 = 15\n",
      "15 X 2 = 30\n",
      "15 X 3 = 45\n",
      "15 X 4 = 60\n",
      "15 X 5 = 75\n",
      "15 X 6 = 90\n",
      "15 X 7 = 105\n",
      "15 X 8 = 120\n",
      "15 X 9 = 135\n",
      "15 X 10 = 150\n"
     ]
    }
   ],
   "source": [
    "number = 15\n",
    "\n",
    "for i in range(1, 11) :\n",
    "    print(number, 'X', i, '=', number * i)"
   ]
  },
  {
   "cell_type": "code",
   "execution_count": 46,
   "metadata": {},
   "outputs": [
    {
     "name": "stdout",
     "output_type": "stream",
     "text": [
      "18\n",
      "9\n",
      "6\n",
      "3\n",
      "2\n",
      "Общих делителей не найдено\n"
     ]
    }
   ],
   "source": [
    "num_1 = 36\n",
    "num_2 = 18\n",
    "\n",
    "irange = 0\n",
    "if num_1 <= num_2 :\n",
    "    irange = num_1 + 1\n",
    "else : \n",
    "    irange = num_2 + 1\n",
    "\n",
    "div = 0\n",
    "\n",
    "for i in range(irange, 1, -1) :\n",
    "    if num_1 % i == 0 and num_2 % i == 0  :\n",
    "        print (i)\n",
    "        #break;\n",
    "else :\n",
    "    print (\"Общих делителей не найдено\")"
   ]
  },
  {
   "cell_type": "code",
   "execution_count": 48,
   "metadata": {},
   "outputs": [
    {
     "name": "stdout",
     "output_type": "stream",
     "text": [
      "Любите ли вы Python?да\n",
      "Увы, это неправильный ответ\n",
      "Любите ли вы Python?Да\n",
      "Это отлично!\n"
     ]
    }
   ],
   "source": [
    "string = \"Нет\"\n",
    "\n",
    "for i in range(5) :\n",
    "    string = input(\"Любите ли вы Python? \\n\")\n",
    "    if string == \"Да\" :\n",
    "        print(\"Это отлично!\")\n",
    "        break;\n",
    "    elif i == 4 :\n",
    "        print(\"Это безнадёжно!\")\n",
    "    else :\n",
    "        print(\"Увы, это неправильный ответ\")"
   ]
  },
  {
   "cell_type": "code",
   "execution_count": 50,
   "metadata": {},
   "outputs": [
    {
     "name": "stdout",
     "output_type": "stream",
     "text": [
      "Не является простым\n"
     ]
    }
   ],
   "source": [
    "number = 172\n",
    "\n",
    "for i in range(2, number) :\n",
    "    if number % i == 0 :\n",
    "        print(\"Не является простым\")\n",
    "        break;\n",
    "else :\n",
    "    print(\"Простое\")"
   ]
  },
  {
   "cell_type": "code",
   "execution_count": 51,
   "metadata": {},
   "outputs": [
    {
     "name": "stdout",
     "output_type": "stream",
     "text": [
      "19\n"
     ]
    }
   ],
   "source": [
    "Y = 170000\n",
    "Z = 1000000\n",
    "money_multiplier = 1.1\n",
    "year = 0\n",
    "\n",
    "while Y <= Z :\n",
    "    year += 1\n",
    "    Y = Y * money_multiplier\n",
    "    if year > 10000 :\n",
    "        break;\n",
    "else :\n",
    "    print(year)"
   ]
  },
  {
   "cell_type": "code",
   "execution_count": 52,
   "metadata": {},
   "outputs": [
    {
     "name": "stdout",
     "output_type": "stream",
     "text": [
      "Перевес 62 кг\n"
     ]
    }
   ],
   "source": [
    "weight = 77\n",
    "all_mass = 0\n",
    "\n",
    "while all_mass < 400 :\n",
    "    all_mass += weight\n",
    "else :\n",
    "    print(\"Перевес\", all_mass - 400, \"кг\")"
   ]
  },
  {
   "cell_type": "code",
   "execution_count": 53,
   "metadata": {},
   "outputs": [
    {
     "name": "stdout",
     "output_type": "stream",
     "text": [
      "7\n"
     ]
    }
   ],
   "source": [
    "hit_per_second = 1\n",
    "attack = 80\n",
    "current_health = 500\n",
    "second = 0\n",
    "\n",
    "while current_health >= 0 :\n",
    "    second += 1 \n",
    "    current_health -= (hit_per_second * attack)\n",
    "else :\n",
    "    print(second)"
   ]
  },
  {
   "cell_type": "code",
   "execution_count": 54,
   "metadata": {},
   "outputs": [
    {
     "name": "stdout",
     "output_type": "stream",
     "text": [
      "6765\n"
     ]
    }
   ],
   "source": [
    "n = 20\n",
    "\n",
    "fib1 = 1\n",
    "fib2 = 1\n",
    "if n == 0:\n",
    "    print(0)\n",
    "elif n <= 2:\n",
    "    print(1)\n",
    "else:\n",
    "    for n in range(2, n):\n",
    "        fib_sum = fib1 + fib2\n",
    "        fib1 = fib2\n",
    "        fib2 = fib_sum\n",
    "    else:\n",
    "        print(fib2)"
   ]
  },
  {
   "cell_type": "code",
   "execution_count": 56,
   "metadata": {},
   "outputs": [
    {
     "name": "stdout",
     "output_type": "stream",
     "text": [
      "['кошка,собака,хомяк,морская', 'свинка,попугай,лошадь']\n"
     ]
    }
   ],
   "source": [
    "animals = 'кошка,собака,хомяк,морская свинка,попугай,лошадь'.split()\n",
    "print(animals)"
   ]
  },
  {
   "cell_type": "code",
   "execution_count": 60,
   "metadata": {},
   "outputs": [
    {
     "name": "stdout",
     "output_type": "stream",
     "text": [
      "['Капустин', 'Козлов', 'Сидоров']\n"
     ]
    }
   ],
   "source": [
    "sparta = ['Иванов', 'Петров', 'Сидоров', 'Зайцев', 'Дятлов', \n",
    "          'Козлов', 'Лисичкин', 'Огурцов', 'Капустин', 'Арбузов']\n",
    "print(sparta[-2:1:-3])\n"
   ]
  },
  {
   "cell_type": "code",
   "execution_count": 62,
   "metadata": {},
   "outputs": [
    {
     "name": "stdout",
     "output_type": "stream",
     "text": [
      "97\n"
     ]
    }
   ],
   "source": [
    "my_list = [1, 10, 45, 31, 12, 54, 111, 398, 97, 63]\n",
    "my_list.sort(reverse = True)\n",
    "\n",
    "print(my_list[2])\n"
   ]
  },
  {
   "cell_type": "code",
   "execution_count": 63,
   "metadata": {},
   "outputs": [
    {
     "name": "stdout",
     "output_type": "stream",
     "text": [
      "399\n"
     ]
    }
   ],
   "source": [
    "my_list = [1, 10, 45, 31, 12, 54, 111, 398, 97, 63]\n",
    "result = max(my_list) + min(my_list) + my_list.count('batman')\n",
    "print(result)"
   ]
  },
  {
   "cell_type": "code",
   "execution_count": 69,
   "metadata": {},
   "outputs": [
    {
     "name": "stdout",
     "output_type": "stream",
     "text": [
      "[1024, 512, 256, 128, 64, 32, 16, 8, 4, 2, 1]\n"
     ]
    }
   ],
   "source": [
    "my_list = [1]\n",
    "for i in range(10):\n",
    "    my_list.append(my_list[i] * 2)\n",
    "my_list.sort(reverse = True)\n",
    "print(my_list)"
   ]
  },
  {
   "cell_type": "code",
   "execution_count": 72,
   "metadata": {},
   "outputs": [
    {
     "name": "stdout",
     "output_type": "stream",
     "text": [
      "[0, 3, 6, 9, 12, 15, 18, 21, 24, 27, 30, 33, 36, 39, 42, 45, 48]\n",
      "408\n"
     ]
    }
   ],
   "source": [
    "result  = 0\n",
    "my_list = []\n",
    "\n",
    "for i in range(0, 51, 3) :\n",
    "    my_list.append(i)\n",
    "    result += i\n",
    "print(my_list)\n",
    "print(result)"
   ]
  },
  {
   "cell_type": "code",
   "execution_count": 74,
   "metadata": {},
   "outputs": [
    {
     "name": "stdout",
     "output_type": "stream",
     "text": [
      "5041\n"
     ]
    }
   ],
   "source": [
    "raw_list = [2, 8, 10, 23, 64, 49, 11, 52, 71, 14]\n",
    "result = 0\n",
    "my_list = []\n",
    "\n",
    "x_min = min(raw_list)\n",
    "x_max = max(raw_list)\n",
    "\n",
    "for el in raw_list :\n",
    "    if el % 2 == 0 :\n",
    "        my_list.append(el * x_min)\n",
    "    else :\n",
    "        my_list.append(el * x_max)\n",
    "\n",
    "result = max(my_list)\n",
    "print(result)"
   ]
  },
  {
   "cell_type": "code",
   "execution_count": 78,
   "metadata": {},
   "outputs": [
    {
     "name": "stdout",
     "output_type": "stream",
     "text": [
      "[1, 3, 5, 7, 9, 11, 13, 15, 17, 19, 21, 23]\n"
     ]
    }
   ],
   "source": [
    "my_list = [x for x in range(1, 25, 2)]\n",
    "print(my_list)"
   ]
  },
  {
   "cell_type": "code",
   "execution_count": 80,
   "metadata": {},
   "outputs": [
    {
     "name": "stdout",
     "output_type": "stream",
     "text": [
      "[1, 1, 4, 1024, 9, 59049, 16, 1048576, 25, 9765625, 36, 60466176, 49, 282475249, 64, 1073741824, 81, 3486784401]\n"
     ]
    }
   ],
   "source": [
    "powers = [x**y for x in range(1, 10) for y in [2,10]]\n",
    "print(powers)"
   ]
  },
  {
   "cell_type": "code",
   "execution_count": 91,
   "metadata": {},
   "outputs": [
    {
     "ename": "SyntaxError",
     "evalue": "invalid syntax (<ipython-input-91-34c0465accf5>, line 1)",
     "output_type": "error",
     "traceback": [
      "\u001b[1;36m  File \u001b[1;32m\"<ipython-input-91-34c0465accf5>\"\u001b[1;36m, line \u001b[1;32m1\u001b[0m\n\u001b[1;33m    my_list = [x if x in 'синхрофазотрон'].sort()\u001b[0m\n\u001b[1;37m                                         ^\u001b[0m\n\u001b[1;31mSyntaxError\u001b[0m\u001b[1;31m:\u001b[0m invalid syntax\n"
     ]
    }
   ],
   "source": [
    "my_list = [x if x in 'синхрофазотрон'].sort()"
   ]
  },
  {
   "cell_type": "code",
   "execution_count": 98,
   "metadata": {},
   "outputs": [
    {
     "name": "stdout",
     "output_type": "stream",
     "text": [
      "[9, 10, 11, 12, 13, 14, 15, 16, 17, 18]\n"
     ]
    }
   ],
   "source": [
    "my_list = [x//10 + x %10 for x in range(90, 100)]\n",
    "print(my_list)"
   ]
  },
  {
   "cell_type": "code",
   "execution_count": 99,
   "metadata": {},
   "outputs": [
    {
     "name": "stdout",
     "output_type": "stream",
     "text": [
      "+79265748370\n"
     ]
    }
   ],
   "source": [
    "employee_base = {\n",
    "    'Мария Никитина': '+79033923029',\n",
    "    'Егор Савичев': '+78125849204',\n",
    "    'Александр Пахомов': '+79053049385',\n",
    "    'Алина Егорова': '+79265748370',\n",
    "    'Руслан Башаров': '+79030598495',\n",
    "}\n",
    "\n",
    "print(employee_base['Алина Егорова'])"
   ]
  },
  {
   "cell_type": "code",
   "execution_count": 106,
   "metadata": {},
   "outputs": [
    {
     "name": "stdout",
     "output_type": "stream",
     "text": [
      "{'Россия': 'A', 'Египет': 'A'}\n"
     ]
    }
   ],
   "source": [
    "draw_dict = {\n",
    "\t'Россия': 'A',\n",
    "\t'Португалия': 'B',\n",
    "\t'Франция': 'C',\n",
    "\t'Дания': 'C',\n",
    "\t'Египет': 'A'\n",
    "}\n",
    "\n",
    "draw_new = {}\n",
    "target_group = 'A'\n",
    "\n",
    "for country, group in draw_dict.items() :\n",
    "    if group == target_group :\n",
    "        draw_new[country] = target_group\n",
    " \n",
    "print(draw_new)"
   ]
  },
  {
   "cell_type": "code",
   "execution_count": 105,
   "metadata": {},
   "outputs": [
    {
     "name": "stdout",
     "output_type": "stream",
     "text": [
      "2\n"
     ]
    }
   ],
   "source": [
    "employee_base = {'Мария Никитина': 'менеджер', 'Егор Савичев': 'разработчик', 'Александр Пахомов': 'дизайнер', 'Алина Егорова': 'разработчик', 'Руслан Башаров': 'верстальщик'}\n",
    "counter = 0\n",
    "\n",
    "for position in employee_base.values() :\n",
    "    if position == 'разработчик' :\n",
    "        counter += 1 \n",
    "\n",
    "print(counter)"
   ]
  },
  {
   "cell_type": "code",
   "execution_count": 108,
   "metadata": {},
   "outputs": [
    {
     "name": "stdout",
     "output_type": "stream",
     "text": [
      "13841\n"
     ]
    }
   ],
   "source": [
    "spent_dict = {\n",
    "    '2019-04-01': 2504, '2019-04-02': 4994, '2019-04-03': 6343\n",
    "}\n",
    "\n",
    "total_spent = 0\n",
    "\n",
    "for daily_spent in spent_dict.values() :\n",
    "    total_spent += daily_spent\n",
    "\n",
    "print(total_spent)"
   ]
  },
  {
   "cell_type": "code",
   "execution_count": 110,
   "metadata": {},
   "outputs": [
    {
     "name": "stdout",
     "output_type": "stream",
     "text": [
      "[['100728', 'Скейтборд Jdbug RT03', 32], ['100732', 'Роллерсерф Razor RipStik Bright', 11], ['100803', 'Ботинки для сноуборда DC Tucknee', 20], ['100934', 'Пульсометр Beurer PM62', 17]]\n"
     ]
    }
   ],
   "source": [
    "csv_file = [\n",
    "    ['100412', 'Ботинки для горных лыж ATOMIC Hawx Prime 100', 9],\n",
    "    ['100728', 'Скейтборд Jdbug RT03', 32],\n",
    "    ['100732', 'Роллерсерф Razor RipStik Bright', 11],\n",
    "    ['100803', 'Ботинки для сноуборда DC Tucknee', 20],\n",
    "    ['100898', 'Шагомер Omron HJA-306', 2],\n",
    "    ['100934', 'Пульсометр Beurer PM62', 17],\n",
    "]\n",
    "\n",
    "csv_file_filtered = []\n",
    "\n",
    "for record in csv_file :\n",
    "    if record[2] > 10 :\n",
    "        csv_file_filtered.append(record)\n",
    "\n",
    "print(csv_file_filtered)"
   ]
  },
  {
   "cell_type": "code",
   "execution_count": 114,
   "metadata": {},
   "outputs": [
    {
     "name": "stdout",
     "output_type": "stream",
     "text": [
      "{'id': '100412', 'position': 'Ботинки для горных лыж ATOMIC Hawx Prime 100', 'count': 9}\n",
      "{'id': '100803', 'position': 'Ботинки для сноуборда DC Tucknee', 'count': 20}\n",
      "[{'id': '100412', 'position': 'Ботинки для горных лыж ATOMIC Hawx Prime 100', 'count': 9}, {'id': '100803', 'position': 'Ботинки для сноуборда DC Tucknee', 'count': 20}]\n"
     ]
    }
   ],
   "source": [
    "csv_dict = [\n",
    "    {'id': '100412', 'position': 'Ботинки для горных лыж ATOMIC Hawx Prime 100', 'count': 9},\n",
    "    {'id': '100728', 'position': 'Скейтборд Jdbug RT03', 'count': 32},\n",
    "    {'id': '100732', 'position': 'Роллерсерф Razor RipStik Bright', 'count': 11},\n",
    "    {'id': '100803', 'position': 'Ботинки для сноуборда DC Tucknee', 'count': 20},\n",
    "    {'id': '100898', 'position': 'Шагомер Omron HJA-306', 'count': 2},\n",
    "    {'id': '100934', 'position': 'Пульсометр Beurer PM62', 'count': 17},\n",
    "]\n",
    "\n",
    "csv_dict_boots = []\n",
    "\n",
    "for record in csv_dict :\n",
    "    if 'Ботинки' in record['position'] :\n",
    "        csv_dict_boots.append(record)\n",
    "\n",
    "print(csv_dict_boots)"
   ]
  },
  {
   "cell_type": "code",
   "execution_count": 116,
   "metadata": {},
   "outputs": [
    {
     "name": "stdout",
     "output_type": "stream",
     "text": [
      "110\n"
     ]
    }
   ],
   "source": [
    "results = [\n",
    "\t{'cost': 182, 'source': 'vk'},\n",
    "\t{'cost': 153, 'source': 'yandex'},\n",
    "\t{'cost': 110, 'source': 'facebook'},\n",
    "]\n",
    "\n",
    "cost_list = []\n",
    "\n",
    "for record in results :\n",
    "    cost_list.append(record['cost'])\n",
    "\n",
    "print(min(cost_list))\n",
    "     "
   ]
  },
  {
   "cell_type": "code",
   "execution_count": 118,
   "metadata": {},
   "outputs": [
    {
     "name": "stdout",
     "output_type": "stream",
     "text": [
      "5\n"
     ]
    }
   ],
   "source": [
    "defect_stats = [\n",
    "\t{'step number': 1, 'damage': 0.98},\n",
    "\t{'step number': 2, 'damage': 0.99},\n",
    "\t{'step number': 3, 'damage': 0.99},\n",
    "\t{'step number': 4, 'damage': 0.96},\n",
    "\t{'step number': 5, 'damage': 0.97},\n",
    "\t{'step number': 6, 'damage': 0.97},\n",
    "]\n",
    "\n",
    "dest_size = 90.0\n",
    "current_size = 100.0\n",
    "step = 0\n",
    "\n",
    "for record in defect_stats :\n",
    "    current_size *= record['damage']\n",
    "    if current_size < dest_size :\n",
    "        step = record['step number']\n",
    "        break;\n",
    "\n",
    "print(step)"
   ]
  },
  {
   "cell_type": "code",
   "execution_count": 129,
   "metadata": {},
   "outputs": [
    {
     "name": "stdout",
     "output_type": "stream",
     "text": [
      "AMD\n"
     ]
    }
   ],
   "source": [
    "currency = {\n",
    "\t'AMD': {\n",
    "\t\t'Name': 'Армянских драмов',\n",
    "\t\t'Nominal': 100,\n",
    "\t\t'Value': 13.121\n",
    "\t},\n",
    "\n",
    "\t'AUD': {\n",
    "\t\t'Name': 'Австралийский доллар',\n",
    "\t\t'Nominal': 1,\n",
    "\t\t'Value': 45.5309\n",
    "\t},\n",
    "\n",
    "\t'INR': {\n",
    "\t\t'Name': 'Индийских рупий',\n",
    "\t\t'Nominal': 100,\n",
    "\t\t'Value': 92.9658\n",
    "\t},\n",
    "\n",
    "\t'MDL': {\n",
    "\t\t'Name': 'Молдавских леев',\n",
    "\t\t'Nominal': 10,\n",
    "\t\t'Value': 36.9305\n",
    "\t},\n",
    "}\n",
    "\n",
    "\n",
    "min_cur = 'AMD'\n",
    "\n",
    "for name, value in currency.items() :\n",
    "    \n",
    "    if value['Value'] / value['Nominal'] < currency[min_cur]['Value'] / currency[min_cur]['Nominal'] :\n",
    "        min_cur = name\n",
    "\n",
    "print(min_cur)"
   ]
  },
  {
   "cell_type": "code",
   "execution_count": 131,
   "metadata": {},
   "outputs": [
    {
     "name": "stdout",
     "output_type": "stream",
     "text": [
      "225\n"
     ]
    }
   ],
   "source": [
    "bodycount = {\n",
    "\t'Проклятие Черной жемчужины': {\n",
    "\t\t'человек': 17\n",
    "\t}, \n",
    "\n",
    "\t'Сундук мертвеца': {\n",
    "\t\t'человек': 56,\n",
    "\t\t'раков-отшельников': 1\n",
    "\t},\n",
    "\n",
    "\t'На краю света': {\n",
    "\t\t'человек': 88\n",
    "\t},\n",
    "\n",
    "\t'На странных берегах': {\n",
    "\t\t'человек': 56,\n",
    "\t\t'русалок': 2,\n",
    "\t\t'ядовитых жаб': 3,\n",
    "\t\t'пиратов зомби': 2\n",
    "\t}\n",
    "}\n",
    "\n",
    "sum_deth = 0\n",
    "\n",
    "for value in bodycount.values() :\n",
    "    for body in value.values() :\n",
    "        sum_deth += body\n",
    "print(sum_deth)"
   ]
  },
  {
   "cell_type": "code",
   "execution_count": 155,
   "metadata": {},
   "outputs": [
    {
     "name": "stdout",
     "output_type": "stream",
     "text": [
      "Counter({60459: 12, 27115: 11, 62602: 11, 56544: 8, 58113: 7, 18923: 5, 23207: 4, 52492: 3, 24500: 2, 53666: 2, 41737: 2, 62526: 1, 61944: 1, 62017: 1, 63120: 1, 59883: 1, 2913: 1, 62940: 1, 63149: 1, 45391: 1, 63019: 1, 15759: 1, 62007: 1, 62941: 1, 51009: 1, 62236: 1, 44682: 1, 39709: 1, 62144: 1, 25301: 1, 33645: 1, 62089: 1, 26705: 1, 1103: 1, 62439: 1, 44196: 1, 50149: 1, 57009: 1, 57207: 1, 32792: 1, 27323: 1, 58330: 1, 61245: 1, 19799: 1, 48128: 1, 57613: 1, 61244: 1, 53018: 1, 61078: 1, 20820: 1, 49700: 1})\n"
     ]
    }
   ],
   "source": [
    "import json\n",
    "with open('data.json','rb') as infile :\n",
    "    data = json.load(infile)\n",
    "data_list = data['events_data']\n",
    "\n",
    "clients_id = []\n",
    "for item in data_list :\n",
    "    client = item['client_id']\n",
    "    clients_id.append(client)\n",
    "\n",
    "import collections\n",
    "c = collections.Counter()\n",
    "\n",
    "for item in clients_id:\n",
    "    c[item] += 1\n",
    "        \n",
    "print(c)\n",
    "\n"
   ]
  },
  {
   "cell_type": "code",
   "execution_count": 153,
   "metadata": {},
   "outputs": [
    {
     "name": "stdout",
     "output_type": "stream",
     "text": [
      "9\n"
     ]
    }
   ],
   "source": [
    "import json\n",
    "with open('data.json','rb') as infile :\n",
    "    data = json.load(infile)\n",
    "data_list = data['events_data']\n",
    "\n",
    "counter = 0\n",
    "for item in data_list :\n",
    "    client = item['client_id']\n",
    "    category = item['category']\n",
    "    if client == 62602 and category == 'page' :\n",
    "        counter += 1\n",
    "print(counter)"
   ]
  },
  {
   "cell_type": "code",
   "execution_count": 166,
   "metadata": {},
   "outputs": [
    {
     "name": "stdout",
     "output_type": "stream",
     "text": [
      "[58113, 60459, 62602]\n"
     ]
    }
   ],
   "source": [
    "import json\n",
    "with open('data.json','rb') as infile :\n",
    "    data = json.load(infile)\n",
    "data_list = data['events_data']\n",
    "\n",
    "import collections\n",
    "c = collections.Counter()\n",
    "\n",
    "report_list = []\n",
    "for item in data_list :\n",
    "    category = item['category']\n",
    "    client = item['client_id']\n",
    "    if category == 'report' :\n",
    "        report_list.append(client)\n",
    "\n",
    "for item in report_list :\n",
    "    c[item] += 1\n",
    "c = sorted(c)\n",
    "print(c)"
   ]
  },
  {
   "cell_type": "code",
   "execution_count": 21,
   "metadata": {},
   "outputs": [
    {
     "name": "stdout",
     "output_type": "stream",
     "text": [
      "рПгоарммсиыт- э оту тсорсйвт,ап ербоарузщюеик фоие н вок.д\n"
     ]
    }
   ],
   "source": [
    "proverb = 'Программисты - это устройства, преобразующие кофеин в код.'\n",
    "new_proverb = ''\n",
    "\n",
    "for i in range(1, len(proverb), 2) :\n",
    "    if i % 2 != 0 :\n",
    "        new_proverb += proverb[i] \n",
    "        new_proverb += proverb[i - 1]\n",
    "print(new_proverb)\n"
   ]
  },
  {
   "cell_type": "code",
   "execution_count": 30,
   "metadata": {},
   "outputs": [
    {
     "name": "stdout",
     "output_type": "stream",
     "text": [
      "Слово \"колок\" является палиндромом\n"
     ]
    }
   ],
   "source": [
    "basic_word = 'колок'\n",
    "inverted_word = ''\n",
    "\n",
    "for i in range(len(basic_word) - 1, -1, -1) :\n",
    "    inverted_word += basic_word[i]\n",
    "\n",
    "if basic_word == inverted_word :\n",
    "    print('Слово \"%s\" является палиндромом' % basic_word)\n",
    "else :\n",
    "    print('Слово \"%s\" - это не палиндром' % basic_word)\n",
    "    \n"
   ]
  },
  {
   "cell_type": "code",
   "execution_count": 32,
   "metadata": {},
   "outputs": [
    {
     "name": "stdout",
     "output_type": "stream",
     "text": [
      "hoster.by\n",
      "hoster.by\n"
     ]
    }
   ],
   "source": [
    "email = 'email@hoster.by'\n",
    "print(email[email.find('@') + 1:])\n",
    "\n",
    "print(email.split('@')[-1])"
   ]
  },
  {
   "cell_type": "code",
   "execution_count": 40,
   "metadata": {},
   "outputs": [
    {
     "name": "stdout",
     "output_type": "stream",
     "text": [
      "14\n"
     ]
    }
   ],
   "source": [
    "number = 56.257\n",
    "fractial = str(number)\n",
    "total = 0\n",
    "\n",
    "for letter in fractial.split('.')[-1] :\n",
    "    total += int(letter)\n",
    "\n",
    "print(total)"
   ]
  },
  {
   "cell_type": "code",
   "execution_count": 41,
   "metadata": {},
   "outputs": [
    {
     "name": "stdout",
     "output_type": "stream",
     "text": [
      "{'mail.ru': 3, 'yandex.ru': 5, 'gmail.com': 2}\n"
     ]
    }
   ],
   "source": [
    "emails_list = ['vasya@mail.ru', \n",
    "          'akakiy@yandex.ru', \n",
    "          'spyderman@yandex.ru', \n",
    "          'XFiles@gmail.com', \n",
    "          'hello@mail.ru', \n",
    "          'noname@gmail.com', \n",
    "          'DonaldTrump@mail.ru', \n",
    "          'a768#af@yandex.ru', \n",
    "          'Ivan_Ivanovich@yandex.ru', \n",
    "          'thebestmail@yandex.ru']\n",
    "emails_dict = {}\n",
    "\n",
    "for email in emails_list :\n",
    "    domain = email.split('@')[-1]\n",
    "    if domain in emails_dict :\n",
    "        emails_dict[domain] += 1\n",
    "    else :\n",
    "        emails_dict.setdefault(domain, 1)\n",
    "\n",
    "print(emails_dict)"
   ]
  },
  {
   "cell_type": "code",
   "execution_count": 42,
   "metadata": {},
   "outputs": [
    {
     "name": "stdout",
     "output_type": "stream",
     "text": [
      "Интернет-открытки - это ЛУЧШЕЕ средство для мужчины сказать женщине о своих чувствах прямо в глаза.\n"
     ]
    }
   ],
   "source": [
    "string = 'Интернет-открытки - это лучшее средство для мужчины сказать женщине о своих чувствах прямо в глаза.'\n",
    "secret = string[24:30]\n",
    "new_string = string.replace(secret.lower(), secret.upper()) \n",
    "print(new_string)"
   ]
  },
  {
   "cell_type": "code",
   "execution_count": 60,
   "metadata": {},
   "outputs": [
    {
     "name": "stdout",
     "output_type": "stream",
     "text": [
      "Тяжёлая интернет:)зависимость :) это когда ты выходишь из интернета:) а он из тебя нет:)\n"
     ]
    }
   ],
   "source": [
    "string = \"Тяжёлая интернет-зависимость - это когда \\\n",
    "ты выходишь из интернета, а он из тебя нет.\"\n",
    "punct_mark = \": . ,  ! - ?\".split()\n",
    "\n",
    "for mark in punct_mark :\n",
    "    string = string.replace(mark, ':)')\n",
    "\n",
    "print(string)"
   ]
  },
  {
   "cell_type": "code",
   "execution_count": 63,
   "metadata": {},
   "outputs": [
    {
     "name": "stdout",
     "output_type": "stream",
     "text": [
      "С - согласная буква\n",
      "е - гласная буква\n",
      "в - согласная буква\n",
      "а - гласная буква\n",
      "с - согласная буква\n",
      "т - согласная буква\n",
      "и - гласная буква\n",
      "а - гласная буква\n",
      "н - согласная буква\n"
     ]
    }
   ],
   "source": [
    "name = 'Севастиан'\n",
    "vowel = 'аяоёуюыиэе'\n",
    "\n",
    "for letter in name :\n",
    "    if letter.lower() in vowel :\n",
    "        print(\"%s - гласная буква\" % letter)\n",
    "    else :\n",
    "        print(\"%s - согласная буква\" % letter)\n",
    "\n"
   ]
  },
  {
   "cell_type": "code",
   "execution_count": 147,
   "metadata": {},
   "outputs": [
    {
     "name": "stdout",
     "output_type": "stream",
     "text": [
      "22\n",
      "['а н', 'а в', 'о в', 'я р', 'я р', 'и Г', 'о н', 'а д', 'е н', 'и д', 'о н', 'е п', 'а Г', 'е н', 'а п', 'о в', 'е н', 'а п', 'о б', 'о к', 'о т', 'и П']\n"
     ]
    }
   ],
   "source": [
    "text = 'Разработка языка Python была начата в конце 1980-х \\\n",
    "годов сотрудником голландского института CWI Гвидо ван Россумом. \\\n",
    "Для распределённой ОС Amoeba требовался расширяемый скриптовый язык, \\\n",
    "и Гвидо начал писать Python на досуге, позаимствовав некоторые \\\n",
    "наработки для языка ABC (Гвидо участвовал в разработке этого языка, \\\n",
    "ориентированного на обучение программированию). В феврале 1991 года \\\n",
    "Гвидо опубликовал исходный текст в группе новостей alt.sources. \\\n",
    "Название языка произошло вовсе не от вида пресмыкающихся. \\\n",
    "Автор назвал язык в честь популярного британского комедийного \\\n",
    "телешоу 1970-х \"Летающий цирк Монти Пайтона\".'\n",
    "\n",
    "import re\n",
    "pattern = re.compile('[АаОоУуЫыЭэЯяЁёЮюИиЕе] [БбВвГгДдЖжЗзЙйКкЛлМмНнПпРрСсТтФфХхЦцЧчШшЩщ]')\n",
    "count = 0\n",
    "for match in re.finditer(pattern, text):\n",
    "    count += 1\n",
    "print(count)\n",
    "print(pattern.findall(text))"
   ]
  },
  {
   "cell_type": "code",
   "execution_count": 85,
   "metadata": {},
   "outputs": [
    {
     "name": "stdout",
     "output_type": "stream",
     "text": [
      "Всего: 1001, Мальчиков: 482, Девочек: 518\n"
     ]
    }
   ],
   "source": [
    "f = open('StudentsPerformance.csv') \n",
    "count = 0\n",
    "male = 0\n",
    "female = 0\n",
    "\n",
    "for line in f :\n",
    "    gender = line.split(',')[0][1:-1]\n",
    "\n",
    "    if gender == 'male' :\n",
    "        male += 1\n",
    "    elif gender == 'female' :\n",
    "        female += 1\n",
    "    count += 1\n",
    "\n",
    "print('Всего: {}, Мальчиков: {}, Девочек: {}'.format(count, male, female))\n",
    "\n",
    "f.close()"
   ]
  },
  {
   "cell_type": "code",
   "execution_count": 103,
   "metadata": {},
   "outputs": [
    {
     "name": "stdout",
     "output_type": "stream",
     "text": [
      "['race/ethnicity', 'group B', 'group C', 'group A', 'group D', 'group E']\n"
     ]
    }
   ],
   "source": [
    "f = open('StudentsPerformance.csv')\n",
    "\n",
    "lst = 0\n",
    "count = 0\n",
    "percent = 0.0\n",
    "eth_list = []\n",
    "\n",
    "for line in f :\n",
    "    item = line.split(',')[1][1:-1]\n",
    "    \n",
    "    if item in eth_list :\n",
    "        continue\n",
    "    else :\n",
    "        eth_list.append(item)\n",
    "    count += 1\n",
    "\n",
    "percent = lst/(count - 1)*100\n",
    "print(eth_list)   \n",
    "\n",
    "\n",
    "f.close()"
   ]
  },
  {
   "cell_type": "code",
   "execution_count": 109,
   "metadata": {},
   "outputs": [
    {
     "name": "stdout",
     "output_type": "stream",
     "text": [
      "66.089\n",
      "0.493\n"
     ]
    }
   ],
   "source": [
    "f = open('StudentsPerformance.csv')\n",
    "\n",
    "math = []\n",
    "\n",
    "for line in f :\n",
    "    item = line.split(',')\n",
    "    \n",
    "    if '\"gender\"' in item[0] :\n",
    "        continue\n",
    "    else :\n",
    "        mark = int(item[5][1:-1])\n",
    "        math.append(mark)\n",
    "\n",
    "math_avg = sum(math)/len(math)\n",
    "print(math_avg)\n",
    "\n",
    "above_avg = 0\n",
    "for mark in math :\n",
    "    if mark > math_avg :\n",
    "        above_avg += 1\n",
    "else :\n",
    "    print(above_avg / len(math))\n",
    "\n",
    "f.close()"
   ]
  },
  {
   "cell_type": "code",
   "execution_count": 135,
   "metadata": {},
   "outputs": [
    {
     "name": "stdout",
     "output_type": "stream",
     "text": [
      "['\"gender\"', '\"race/ethnicity\"', '\"parental level of education\"', '\"lunch\"', '\"test preparation course\"', '\"math score\"', '\"reading score\"', '\"writing score\"\\n']\n",
      "68.054\n",
      "0.8676470588235294\n"
     ]
    }
   ],
   "source": [
    "f = open('StudentsPerformance.csv')\n",
    "\n",
    "import re\n",
    "pattern = re.compile('\\d+')\n",
    "\n",
    "exams = []\n",
    "\n",
    "for line in f :\n",
    "    item = line.split(',')\n",
    "        \n",
    "    if '\"gender\"' in item[0] :\n",
    "        print(item)\n",
    "        continue\n",
    "    else :\n",
    "        nline = []\n",
    "        for i in item :\n",
    "            a = pattern.search(i)\n",
    "            \n",
    "            if a != None :\n",
    "                nline.append(int(a[0]))\n",
    "            else :\n",
    "                nline.append(i[1:-1])\n",
    "            \n",
    "        exams.append(nline)\n",
    "\n",
    "f.close()\n",
    "\n",
    "rscore = []\n",
    "\n",
    "#print(exams)\n",
    "\n",
    "for i in exams :\n",
    "    rscore.append(i[-1])\n",
    "      \n",
    "\n",
    "rscore_avg = sum(rscore)/len(rscore)\n",
    "print(rscore_avg)\n",
    "\n",
    "low_avg = 0\n",
    "for i in rscore :\n",
    "    if i > 90 :\n",
    "        low_avg += 1\n",
    "\n",
    "from_low = 0\n",
    "for i in exams :\n",
    "    if 'standard' in i[3] and i[-1] > 90 :\n",
    "        from_low += 1\n",
    "\n",
    "\n",
    "print(from_low / low_avg)"
   ]
  },
  {
   "cell_type": "code",
   "execution_count": 162,
   "metadata": {},
   "outputs": [],
   "source": [
    "f = open('StudentsPerformance.csv')\n",
    "#students = {}\n",
    "mark_list = []\n",
    "max_mark = 0\n",
    "\n",
    "\n",
    "for line in f:\n",
    "    item = line.split(',')\n",
    "    if item[0] == '\"gender\"':\n",
    "        continue\n",
    "    \n",
    "    ethnicity = item[1][1:-1]\n",
    "    edu_level = item[2][1:-1]\n",
    "    lunch = item[3][1:-1]\n",
    "    gender = item[0][1:-1]\n",
    "    precourse = item[4][1:-1]\n",
    "    rscore = int(item[-2][1:-1])\n",
    "    math_score = int(item[-3][1:-1])\n",
    "  \n",
    "    find_me = gender\n",
    "    group = math_score\n",
    "    \n",
    "#    students.setdefault(group, {})\n",
    "        \n",
    "#    if  find_me in students[group] :\n",
    "#        students[group][find_me] += 1\n",
    "#    else :\n",
    "#        students[group][find_me] = 1\n",
    "\n",
    "#print(students)\n",
    "\n",
    "#print(sum(mark_list)/len(mark_list))\n",
    "\n",
    "f.close()"
   ]
  },
  {
   "cell_type": "code",
   "execution_count": 155,
   "metadata": {},
   "outputs": [
    {
     "name": "stdout",
     "output_type": "stream",
     "text": [
      "notyhp\n"
     ]
    }
   ],
   "source": [
    "string = 'phyton'\n",
    "print(string[-1::-1])"
   ]
  },
  {
   "cell_type": "code",
   "execution_count": 166,
   "metadata": {},
   "outputs": [
    {
     "name": "stdout",
     "output_type": "stream",
     "text": [
      "100\n",
      "97.85714285714286\n"
     ]
    }
   ],
   "source": [
    "f = open('StudentsPerformance.csv')\n",
    "f_list = []\n",
    "max_mark = 0\n",
    "\n",
    "for line in f :\n",
    "    item = line.split(',')\n",
    "    if item[0] == '\"gender\"' :\n",
    "        continue\n",
    "    f_list.append(item)\n",
    "    mark = int(item[-3][1:-1])\n",
    "    if mark > max_mark :\n",
    "        max_mark = mark\n",
    "print(max_mark)\n",
    "f.close()\n",
    "\n",
    "mark_list = []\n",
    "\n",
    "for item in f_list:\n",
    "    mark_math = int(item[-3][1:-1])\n",
    "    mark_read = int(item[-2][1:-1])\n",
    "    \n",
    "    if mark_math == max_mark :\n",
    "        mark_list.append(mark_read)\n",
    "\n",
    "print(sum(mark_list) / len(mark_list))"
   ]
  },
  {
   "cell_type": "code",
   "execution_count": 174,
   "metadata": {},
   "outputs": [
    {
     "name": "stdout",
     "output_type": "stream",
     "text": [
      "63.02253521126761\n"
     ]
    }
   ],
   "source": [
    "f = open('StudentsPerformance.csv')\n",
    "f_list = []\n",
    "\n",
    "for line in f :\n",
    "    item = line.split(',')\n",
    "    if item[0] == '\"gender\"' :\n",
    "        continue   \n",
    "    f_list.append(item)\n",
    "    \n",
    "f.close()\n",
    "\n",
    "mark_list = []\n",
    "\n",
    "for item in f_list:\n",
    "    mark_lunch = item[3][1:-1]\n",
    "    mark_write = int(item[-1][1:-2])\n",
    "    \n",
    "    if 'free/reduce' in mark_lunch:\n",
    "        mark_list.append(mark_write)\n",
    "\n",
    "print(sum(mark_list) / len(mark_list))"
   ]
  },
  {
   "cell_type": "code",
   "execution_count": 178,
   "metadata": {},
   "outputs": [
    {
     "name": "stdout",
     "output_type": "stream",
     "text": [
      "3\n",
      "5.0\n"
     ]
    }
   ],
   "source": [
    "def get_median(unsorted_massive) :\n",
    "    sorted_massive = sorted(unsorted_massive)\n",
    "    length = len(sorted_massive)\n",
    "    median = 0\n",
    "    \n",
    "    if length % 2 == 0 :\n",
    "        a = sorted_massive[length // 2 - 1]\n",
    "        b = sorted_massive[length // 2]\n",
    "        median = (a + b) / 2\n",
    "    else :\n",
    "        median = sorted_massive[length // 2]\n",
    "    \n",
    "    return median\n",
    "\n",
    "print(get_median([5, 2, 1, 3, 4]))\n",
    "print(get_median([3, 3, 7, 9]))\n",
    "    \n",
    "    "
   ]
  },
  {
   "cell_type": "code",
   "execution_count": 179,
   "metadata": {},
   "outputs": [
    {
     "name": "stdout",
     "output_type": "stream",
     "text": [
      "29.0\n"
     ]
    }
   ],
   "source": [
    "def avg_orders(user_db) :\n",
    "    order_sum = sum([user['orders'] for user in user_db])\n",
    "    orders_per_user = order_sum/len(user_db)\n",
    "    return orders_per_user\n",
    "\n",
    "user_db = [{'orders': 12}, {'orders': 30}, {'orders': 45}]\n",
    "orders_per_user = avg_orders(user_db)\n",
    "print(orders_per_user)\n",
    "\n",
    "\n"
   ]
  },
  {
   "cell_type": "code",
   "execution_count": 186,
   "metadata": {},
   "outputs": [
    {
     "name": "stdout",
     "output_type": "stream",
     "text": [
      "['€5.45', '€2.75', '€2.2'] ['€0.73', '€0.49'] ['€1.38', '€1.37', '€2.3']\n"
     ]
    }
   ],
   "source": [
    "def get_euro_rate() :\n",
    "    import random\n",
    "    return random.uniform(65.0, 85.0)\n",
    "\n",
    "def to_euro(price):  \n",
    "    exchange_rate = get_euro_rate()  \n",
    "    rounded = round(price/exchange_rate, 2)  \n",
    "    return '€' + str(rounded)  \n",
    "  \n",
    "def db_to_euro(db):  \n",
    "    return [to_euro(item['price']) for item in db]  \n",
    "  \n",
    "  \n",
    "ticket_db = [{'price': 400}, {'price': 200}, {'price': 150}]  \n",
    "guide_db = [{'price': 50}, {'price': 40}]  \n",
    "snack_db = [{'price': 100}, {'price': 95}, {'price': 150}]  \n",
    "  \n",
    "tickets_euro = db_to_euro(ticket_db)  \n",
    "guides_euro = db_to_euro(guide_db)  \n",
    "snacks_euro = db_to_euro(snack_db)  \n",
    "  \n",
    "print(tickets_euro, guides_euro, snacks_euro)  \n"
   ]
  },
  {
   "cell_type": "code",
   "execution_count": 188,
   "metadata": {},
   "outputs": [
    {
     "name": "stdout",
     "output_type": "stream",
     "text": [
      "range(0, 5)\n",
      "10\n"
     ]
    }
   ],
   "source": [
    "all_the = sum\n",
    "magic = range\n",
    "print(magic(5))\n",
    "print(all_the(magic(5)))"
   ]
  },
  {
   "cell_type": "code",
   "execution_count": 189,
   "metadata": {},
   "outputs": [
    {
     "data": {
      "text/plain": [
       "73"
      ]
     },
     "execution_count": 189,
     "metadata": {},
     "output_type": "execute_result"
    }
   ],
   "source": [
    "list(map(abs, [10,  -1, 42, -73]))[3]"
   ]
  },
  {
   "cell_type": "code",
   "execution_count": 195,
   "metadata": {},
   "outputs": [
    {
     "data": {
      "text/plain": [
       "[-14, -10, -3, -2, 5, 24]"
      ]
     },
     "execution_count": 195,
     "metadata": {},
     "output_type": "execute_result"
    }
   ],
   "source": [
    "values = [4, 8, 15, 16, 23, 42]\n",
    "mean = 18\n",
    "\n",
    "result = map(lambda x: x - mean, values)\n",
    "list(result)"
   ]
  },
  {
   "cell_type": "code",
   "execution_count": 203,
   "metadata": {
    "scrolled": true
   },
   "outputs": [
    {
     "name": "stdout",
     "output_type": "stream",
     "text": [
      "[5.0, 10.0]\n"
     ]
    }
   ],
   "source": [
    "def normalize(numbers, mean = 0, std = 1) :\n",
    "    nlist = [(x - mean) / std for x in numbers]\n",
    "    return nlist\n",
    "\n",
    "print(normalize([10, 20], std = 2))"
   ]
  },
  {
   "cell_type": "code",
   "execution_count": 192,
   "metadata": {
    "scrolled": false
   },
   "outputs": [
    {
     "ename": "SyntaxError",
     "evalue": "invalid syntax (<ipython-input-192-0e7700aec6fc>, line 1)",
     "output_type": "error",
     "traceback": [
      "\u001b[1;36m  File \u001b[1;32m\"<ipython-input-192-0e7700aec6fc>\"\u001b[1;36m, line \u001b[1;32m1\u001b[0m\n\u001b[1;33m    func = lambada value: value ** 2\u001b[0m\n\u001b[1;37m                       ^\u001b[0m\n\u001b[1;31mSyntaxError\u001b[0m\u001b[1;31m:\u001b[0m invalid syntax\n"
     ]
    }
   ],
   "source": []
  },
  {
   "cell_type": "code",
   "execution_count": 204,
   "metadata": {},
   "outputs": [
    {
     "name": "stdout",
     "output_type": "stream",
     "text": [
      "verbose mode\n"
     ]
    }
   ],
   "source": [
    "def show_keys(**kwargs):\n",
    "    print(' '.join(kwargs.keys()))\n",
    "\n",
    "show_keys(verbose=True, mode='constant')"
   ]
  },
  {
   "cell_type": "code",
   "execution_count": 213,
   "metadata": {
    "scrolled": true
   },
   "outputs": [
    {
     "name": "stdout",
     "output_type": "stream",
     "text": [
      "Beep boop 9 2\n",
      "8\n",
      "Beep boop 9 2\n",
      "4.0\n",
      "I will build my own theme park 30 7\n",
      "24\n",
      "I will build my own theme park 30 7\n",
      "3.4285714285714284\n"
     ]
    },
    {
     "data": {
      "text/plain": [
       "3.4285714285714284"
      ]
     },
     "execution_count": 213,
     "metadata": {},
     "output_type": "execute_result"
    }
   ],
   "source": [
    "def count_letters(sentence, average = False) :\n",
    "    wlist = sentence.split(' ')\n",
    "    var = 0\n",
    "    print(sentence, len(sentence), len(wlist))\n",
    "    \n",
    "    if average == True :\n",
    "        var = (len(sentence) - len(wlist) + 1) / len(wlist)\n",
    "        \n",
    "    else :\n",
    "        var = len(sentence) - len(wlist) + 1\n",
    "            \n",
    "    print(var)\n",
    "    return var    \n",
    "\n",
    "count_letters(\"Beep boop\") # => 8\n",
    "count_letters(\"Beep boop\", average=True) # => 4\n",
    "count_letters(\"I will build my own theme park\") # => 24\n",
    "count_letters(\"I will build my own theme park\", average=True) # => 3.429"
   ]
  },
  {
   "cell_type": "code",
   "execution_count": 214,
   "metadata": {},
   "outputs": [
    {
     "data": {
      "text/plain": [
       "'a'"
      ]
     },
     "execution_count": 214,
     "metadata": {},
     "output_type": "execute_result"
    }
   ],
   "source": [
    "words = [\"sofa\", \"suitcase\", \"valise\", \"picture\", \"basket\", \"carton\", \"doggie\"]\n",
    "list(map(lambda w: sorted(w)[0], words))[5]"
   ]
  },
  {
   "cell_type": "code",
   "execution_count": 218,
   "metadata": {},
   "outputs": [
    {
     "data": {
      "text/plain": [
       "5"
      ]
     },
     "execution_count": 218,
     "metadata": {},
     "output_type": "execute_result"
    }
   ],
   "source": [
    "gl = 0\n",
    "\n",
    "def func(*arg) :\n",
    "    return gl\n",
    "\n",
    "def always(arg) :\n",
    "    global gl\n",
    "    gl = arg\n",
    "    return func\n",
    "\n",
    "five = always(5)\n",
    "five() # должно вернуть 5"
   ]
  },
  {
   "cell_type": "code",
   "execution_count": 219,
   "metadata": {},
   "outputs": [
    {
     "name": "stdout",
     "output_type": "stream",
     "text": [
      "The Zen of Python, by Tim Peters\n",
      "\n",
      "Beautiful is better than ugly.\n",
      "Explicit is better than implicit.\n",
      "Simple is better than complex.\n",
      "Complex is better than complicated.\n",
      "Flat is better than nested.\n",
      "Sparse is better than dense.\n",
      "Readability counts.\n",
      "Special cases aren't special enough to break the rules.\n",
      "Although practicality beats purity.\n",
      "Errors should never pass silently.\n",
      "Unless explicitly silenced.\n",
      "In the face of ambiguity, refuse the temptation to guess.\n",
      "There should be one-- and preferably only one --obvious way to do it.\n",
      "Although that way may not be obvious at first unless you're Dutch.\n",
      "Now is better than never.\n",
      "Although never is often better than *right* now.\n",
      "If the implementation is hard to explain, it's a bad idea.\n",
      "If the implementation is easy to explain, it may be a good idea.\n",
      "Namespaces are one honking great idea -- let's do more of those!\n"
     ]
    }
   ],
   "source": [
    "import this"
   ]
  },
  {
   "cell_type": "code",
   "execution_count": null,
   "metadata": {},
   "outputs": [],
   "source": []
  }
 ],
 "metadata": {
  "kernelspec": {
   "display_name": "Python 3",
   "language": "python",
   "name": "python3"
  },
  "language_info": {
   "codemirror_mode": {
    "name": "ipython",
    "version": 3
   },
   "file_extension": ".py",
   "mimetype": "text/x-python",
   "name": "python",
   "nbconvert_exporter": "python",
   "pygments_lexer": "ipython3",
   "version": "3.7.6"
  }
 },
 "nbformat": 4,
 "nbformat_minor": 4
}
